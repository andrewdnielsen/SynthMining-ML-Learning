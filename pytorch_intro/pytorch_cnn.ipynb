{
 "cells": [
  {
   "cell_type": "markdown",
   "metadata": {},
   "source": [
    "# Building a Simple CNN for MNIST Classification in PyTorch\n",
    "\n",
    "## Goals:\n",
    "\n",
    "- Model Construction: Understand how to construct a simple Convolutional Neural Network (CNN) for image classification using PyTorch.\n",
    "- Training Process: Learn the key steps in training a neural network, including defining the model architecture, choosing a loss function, and using an optimizer.\n",
    "- Evaluation and Accuracy: Familiarize yourself with testing the trained model on a validation dataset and calculating accuracy.\n",
    "\n",
    "## Concepts/Resources to Familiarize Before Beginning:\n",
    "\n",
    "Convolutional Neural Networks (CNNs): \n",
    "- Understand the basic concepts of CNNs, including convolutional layers, pooling layers, and fully connected layers.\n",
    "- Have a basic understanding of PyTorch tensors, modules, and autograd for automatic differentiation.\n",
    "\n",
    "MNIST Dataset:\n",
    "- Know about the MNIST dataset, a collection of 28x28 grayscale images of handwritten digits (0-9).\n",
    "\n",
    "Loss Functions\n",
    "- Understand different loss functions and their applications. Cross-entropy loss is commonly used for classification tasks.\n",
    "\n",
    "Gradient Descent & Backpropagation\n",
    "- Understand the mathematics behind gradient descent and backpropagation implementation in pytorch\n",
    "- Familiarize yourself with optimization algorithms like Stochastic Gradient Descent (SGD) and Adam.\n",
    "\n",
    "## Implementation\n",
    "\n",
    "Model Initialization:\n",
    "- Implement a simple CNN model for MNIST classification. Define convolutional and fully connected layers.\n",
    "- Utilize the provided CNNClassifier class and fill in the TODOs for layer definitions.\n",
    "\n",
    "Hyperparameters and Training Setup:\n",
    "- Experiment with hyperparameters like the number of epochs, batch size, and learning rate for training.\n",
    "- Initialize the loss function (cross-entropy) and optimizer (e.g., Adam) in the provided TODOs.\n",
    "\n",
    "Training Loop:\n",
    "- Construct the training loop to iterate over the training dataset, perform forward and backward passes, and optimize the model parameters.\n",
    "\n",
    "Validation and Accuracy Calculation:\n",
    "- Test the trained model on a separate validation (test) dataset (MNIST test set).\n",
    "- Calculate and print the accuracy of the model.\n",
    "\n",
    "Experimentation:\n",
    "- Experiment with different hyperparameter values and observe their impact on training and validation accuracy.\n",
    "- Reflect on the importance of appropriate model architecture, hyperparameters, and optimization choices."
   ]
  },
  {
   "cell_type": "code",
   "execution_count": 2,
   "metadata": {},
   "outputs": [],
   "source": [
    "import torch\n",
    "import torch.nn as nn\n",
    "import torch.optim as optim\n",
    "import torch.utils.data\n",
    "import torchvision\n",
    "import torchvision.transforms as transforms\n",
    "import matplotlib.pyplot as plt\n",
    "import numpy as np"
   ]
  },
  {
   "cell_type": "code",
   "execution_count": null,
   "metadata": {},
   "outputs": [],
   "source": [
    "# Define the CNN model for MNIST classification\n",
    "class CNNClassifier(nn.Module):\n",
    "    def __init__(self):\n",
    "        super(CNNClassifier, self).__init__()\n",
    "        \n",
    "        # TODO: Define the convolutional layers\n",
    "        self.conv1 = None\n",
    "        self.conv2 = None\n",
    "        \n",
    "        # TODO: Define the fully connected layers\n",
    "        self.fc1 = None\n",
    "        self.fc2 = None\n",
    "        self.fc3 = None\n",
    "        \n",
    "    def forward(self, x):\n",
    "        # TODO: Implement the forward pass\n",
    "        return x"
   ]
  },
  {
   "cell_type": "code",
   "execution_count": 4,
   "metadata": {},
   "outputs": [],
   "source": [
    "# Hyperparameters\n",
    "num_epochs = 10\n",
    "batch_size = 64\n",
    "learning_rate = 0.001"
   ]
  },
  {
   "cell_type": "code",
   "execution_count": null,
   "metadata": {},
   "outputs": [],
   "source": [
    "\n",
    "# TODO: Initialize the CNN model\n",
    "model = None"
   ]
  },
  {
   "cell_type": "code",
   "execution_count": 9,
   "metadata": {},
   "outputs": [
    {
     "data": {
      "image/png": "[encoded data removed]",
      "text/plain": [
       "<Figure size 640x480 with 1 Axes>"
      ]
     },
     "metadata": {},
     "output_type": "display_data"
    }
   ],
   "source": [
    "# TODO: Transform the MNIST dataset for classification\n",
    "transform = transforms.Compose([transforms.ToTensor(), transforms.Normalize((0.5,), (0.5,))])\n",
    "\n",
    "train_dataset = torchvision.datasets.MNIST(root='./data', train=True, transform=transform, download=True)\n",
    "train_loader = torch.utils.data.DataLoader(dataset=train_dataset, batch_size=batch_size, shuffle=True)\n",
    "\n",
    "# Visualize a few sample images from the transformed dataset\n",
    "sample_loader = torch.utils.data.DataLoader(dataset=train_dataset, batch_size=5, shuffle=True)\n",
    "\n",
    "# Get a batch of images and labels\n",
    "sample_images, sample_labels = next(iter(sample_loader))\n",
    "\n",
    "# Function to display images\n",
    "def imshow(img):\n",
    "    img = img / 2 + 0.5  # Unnormalize the image\n",
    "    npimg = img.numpy()\n",
    "    plt.imshow(np.transpose(npimg, (1, 2, 0)))\n",
    "    plt.show()\n",
    "\n",
    "# Display the images\n",
    "imshow(torchvision.utils.make_grid(sample_images))"
   ]
  },
  {
   "cell_type": "code",
   "execution_count": null,
   "metadata": {},
   "outputs": [],
   "source": [
    "\n",
    "# TODO: Initialize loss function and optimizer\n",
    "criterion = None\n",
    "optimizer = None\n",
    "\n",
    "# Training loop\n",
    "for epoch in range(num_epochs):\n",
    "    for images, labels in train_loader:\n",
    "        # TODO: Forward pass\n",
    "        \n",
    "        # TODO: Compute the loss\n",
    "        loss = None\n",
    "        \n",
    "        # TODO: Reset gradients\n",
    "        \n",
    "        # TODO: Backward pass\n",
    "        \n",
    "        # TODO: Optimize (update weights)\n",
    "        \n",
    "        pass\n",
    "    \n",
    "    print(f'Epoch [{epoch+1}/{num_epochs}], Loss: {loss.item():.4f}')\n"
   ]
  },
  {
   "cell_type": "code",
   "execution_count": null,
   "metadata": {},
   "outputs": [],
   "source": [
    "# Test the trained model on the test set\n",
    "test_dataset = torchvision.datasets.MNIST(root='./data', train=False, transform=transform, download=True)\n",
    "test_loader = torch.utils.data.DataLoader(dataset=test_dataset, batch_size=5, shuffle=False)\n",
    "\n",
    "correct = 0\n",
    "total = 0\n",
    "\n",
    "with torch.no_grad():\n",
    "    for images, labels in test_loader:\n",
    "        # TODO: Make predictions using the trained model\n",
    "        predicted_labels = None\n",
    "        \n",
    "        # Calculate accuracy\n",
    "        total += labels.size(0)\n",
    "        correct += (predicted_labels == labels).sum().item()\n",
    "\n",
    "        # Print the predicted labels\n",
    "        print('Predicted Labels:', predicted_labels.numpy())\n",
    "        print('True Labels:', labels.numpy())\n",
    "        break  # Print predictions for the first batch only\n",
    "\n",
    "# Print accuracy\n",
    "accuracy = correct / total\n",
    "print(f'Test Accuracy: {100 * accuracy:.2f}%')"
   ]
  }
 ],
 "metadata": {
  "kernelspec": {
   "display_name": "sm.venv",
   "language": "python",
   "name": "python3"
  },
  "language_info": {
   "codemirror_mode": {
    "name": "ipython",
    "version": 3
   },
   "file_extension": ".py",
   "mimetype": "text/x-python",
   "name": "python",
   "nbconvert_exporter": "python",
   "pygments_lexer": "ipython3",
   "version": "3.11.4"
  }
 },
 "nbformat": 4,
 "nbformat_minor": 2
}
